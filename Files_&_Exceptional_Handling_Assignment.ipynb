{
  "nbformat": 4,
  "nbformat_minor": 0,
  "metadata": {
    "colab": {
      "provenance": []
    },
    "kernelspec": {
      "name": "python3",
      "display_name": "Python 3"
    },
    "language_info": {
      "name": "python"
    }
  },
  "cells": [
    {
      "cell_type": "code",
      "execution_count": null,
      "metadata": {
        "id": "NZ7XbhPoDbWq"
      },
      "outputs": [],
      "source": [
        "Files & Exceptional Handling Assignment"
      ]
    },
    {
      "cell_type": "markdown",
      "source": [
        "**Files & Exceptional Handling** **Assignment**"
      ],
      "metadata": {
        "id": "ukY2O_qyDj0h"
      }
    },
    {
      "cell_type": "markdown",
      "source": [
        "**QUES 1-** Discuss the scenarios where multithreading is preferable to multiprocessing and scenarios where multiprocessing is a better choice."
      ],
      "metadata": {
        "id": "vaSAvQzJDwqJ"
      }
    },
    {
      "cell_type": "markdown",
      "source": [
        "**When to Use Multiprocessing**\n",
        "\n",
        "**CPU-Bound Tasks:**\n",
        "\n",
        "Multiprocessing is preferred for CPU-bound tasks that require intensive\n",
        "computations, such as numerical calculations, image processing, or scientific simulations. Each process can run on a separate CPU core, fully utilizing the available hardware.\n",
        "\n",
        "**Isolation:**\n",
        "\n",
        "Since processes are isolated from each other, if one crashes, it doesn’t affect others. This is beneficial for applications that require fault tolerance and stability.\n",
        "\n",
        "**Avoiding GIL Limitations:**\n",
        "\n",
        "In Python, the Global Interpreter Lock (GIL) limits the execution of threads to one at a time. For CPU-bound tasks, using multiprocessing bypasses the GIL, allowing for true parallelism.\n",
        "\n",
        "**Heavy Resource Utilization:**\n",
        "\n",
        "If your application is resource-heavy and can afford the overhead of creating separate processes, multiprocessing can be advantageous. It provides each process with its own memory space, reducing contention.\n",
        "\n",
        "**When to Use Multithreading**\n",
        "I/O-Bound Tasks:\n",
        "\n",
        "Multithreading is ideal for applications that are I/O-bound, such as web servers, file handling, or network operations. Threads can efficiently handle multiple I/O requests since while one thread waits for an I/O operation to complete, others can continue executing.\n",
        "\n",
        "**Shared Memory Needs:**\n",
        "\n",
        "When multiple threads need to access shared data or state, multithreading allows easy sharing of memory, which can simplify the design and implementation of the application.\n",
        "\n",
        "**Low Overhead:**\n",
        "\n",
        "Creating and switching between threads is generally less resource-intensive than processes. For tasks that require frequent context switching, multithreading can lead to better performance.\n"
      ],
      "metadata": {
        "id": "So12O9NGD8Gq"
      }
    },
    {
      "cell_type": "markdown",
      "source": [
        "**QUES 2-**  Describe what a process pool is and how it helps in managing multiple processes efficiently.\n",
        "\n",
        "A process pool is a collection of pre-instantiated processes that are used to execute tasks concurrently. It is designed to manage multiple processes efficiently by reusing a limited number of worker processes to perform tasks, instead of creating and destroying processes repeatedly. This approach reduces the overhead associated with process creation and destruction, making it more efficient for executing many small or similar tasks.\n",
        "\n",
        "**Key Features of Process Pools**\n",
        "\n",
        "**Pre-allocation of Processes:**\n",
        "A fixed number of processes are created in advance and kept in the pool. This limits the number of concurrent processes and manages resource usage effectively.\n",
        "\n",
        "**Task Queueing:**\n",
        "When tasks are submitted to the pool, they are added to a queue. The worker processes in the pool take tasks from this queue as they become available, allowing for a controlled distribution of work.\n",
        "\n",
        "**Load Balancing:**\n",
        "The process pool can balance the workload across its available processes, ensuring that no single process becomes a bottleneck while others are idle.\n",
        "\n",
        "**Resource Management:**\n",
        "By limiting the number of concurrent processes, the pool helps manage system resources more effectively, avoiding issues such as excessive memory usage or CPU contention.\n",
        "\n",
        "**Error Handling:**\n",
        "Process pools often provide mechanisms for handling errors in worker processes, allowing for retries or logging failures without crashing the entire application."
      ],
      "metadata": {
        "id": "BEvRD5W3G2ua"
      }
    },
    {
      "cell_type": "markdown",
      "source": [
        "**QUES 3**. Explain what multiprocessing is and why it is used in Python programs.\n",
        "\n",
        "**Multiprocessing** is a programming technique that allows a program to execute multiple processes simultaneously. In contrast to multithreading, where multiple threads share the same memory space, multiprocessing creates separate memory spaces for each process. This approach is especially useful for CPU-bound tasks that require significant computation, as it can fully utilize multiple CPU cores.\n",
        "\n",
        "**Use Multiprocessing in Python**\n",
        "\n",
        "**CPU-Bound Tasks:**\n",
        "Multiprocessing is particularly beneficial for CPU-bound tasks—those that require heavy computation, such as mathematical calculations, data processing, or image rendering. By utilizing multiple processes, these tasks can be completed faster.\n",
        "\n",
        "**Avoiding the GIL:**\n",
        "In Python, the GIL allows only one thread to execute Python bytecode at a time. For CPU-bound applications, this can lead to performance bottlenecks. Multiprocessing avoids this limitation by distributing tasks across multiple processes.\n",
        "\n",
        "**Improved Performance:**\n",
        "By leveraging multiple cores, multiprocessing can significantly improve performance for applications that can be parallelized. This is especially true on modern multi-core processors.\n",
        "\n",
        "**Stability and Fault Tolerance:**\n",
        "Since processes are isolated, an error in one process does not crash the entire program. This makes multiprocessing a good choice for applications that require robustness.\n",
        "\n",
        "**Simplified Design for Certain Applications:**\n",
        "For tasks that are inherently parallel, such as data processing in batches, using separate processes can simplify the architecture. Each process can handle a specific chunk of work without needing to manage shared state.\n",
        "\n"
      ],
      "metadata": {
        "id": "3YCuT2JPH15d"
      }
    },
    {
      "cell_type": "markdown",
      "source": [
        "**QUES 4**. Write a Python program using multithreading where one thread adds numbers to a list, and another thread removes numbers from the list. Implement a mechanism to avoid race conditions using threading.Lock."
      ],
      "metadata": {
        "id": "qeN2EjmqXmf1"
      }
    },
    {
      "cell_type": "code",
      "source": [
        "import threading\n",
        "import time\n",
        "import random\n",
        "\n",
        "# Shared list\n",
        "numbers = []\n",
        "\n",
        "# Create a lock object\n",
        "lock = threading.Lock()\n",
        "\n",
        "# Thread function to add numbers to the list\n",
        "def add_numbers():\n",
        "    while True:\n",
        "        # Acquire the lock before modifying the list\n",
        "        lock.acquire()\n",
        "        try:\n",
        "            num = random.randint(1, 100)\n",
        "            numbers.append(num)\n",
        "            print(f\"Added {num}, List: {numbers}\")\n",
        "        finally:\n",
        "            # Release the lock after modifying\n",
        "            lock.release()\n",
        "\n",
        "        # Simulate some processing time\n",
        "        time.sleep(random.uniform(0.5, 1.5))\n",
        "\n",
        "# Thread function to remove numbers from the list\n",
        "def remove_numbers():\n",
        "    while True:\n",
        "        # Acquire the lock before modifying the list\n",
        "        lock.acquire()\n",
        "        try:\n",
        "            if numbers:\n",
        "                num = numbers.pop(0)\n",
        "                print(f\"Removed {num}, List: {numbers}\")\n",
        "        finally:\n",
        "            # Release the lock after modifying\n",
        "            lock.release()\n",
        "\n",
        "        # Simulate some processing time\n",
        "        time.sleep(random.uniform(1, 2))\n",
        "\n",
        "# Create threads\n",
        "add_thread = threading.Thread(target=add_numbers)\n",
        "remove_thread = threading.Thread(target=remove_numbers)\n",
        "\n",
        "# Start the threads\n",
        "add_thread.start()\n",
        "remove_thread.start()\n",
        "\n",
        "# Join threads (optional, so they run indefinitely)\n",
        "add_thread.join()\n",
        "remove_thread.join()"
      ],
      "metadata": {
        "colab": {
          "base_uri": "https://localhost:8080/",
          "height": 1000
        },
        "id": "bmIPVvyPXqzI",
        "outputId": "ace8f337-fecb-480a-e539-c014016be01b"
      },
      "execution_count": 4,
      "outputs": [
        {
          "output_type": "stream",
          "name": "stdout",
          "text": [
            "Added 17, List: [17]\n",
            "Removed 17, List: []\n",
            "Added 40, List: [40]\n",
            "Removed 40, List: []\n",
            "Added 51, List: [51]\n",
            "Added 33, List: [51, 33]\n",
            "Removed 51, List: [33]\n",
            "Added 92, List: [33, 92]\n",
            "Added 84, List: [33, 92, 84]\n",
            "Removed 33, List: [92, 84]\n",
            "Added 11, List: [92, 84, 11]\n",
            "Removed 92, List: [84, 11]\n",
            "Added 44, List: [84, 11, 44]\n",
            "Added 59, List: [84, 11, 44, 59]\n",
            "Removed 84, List: [11, 44, 59]\n",
            "Added 46, List: [11, 44, 59, 46]\n",
            "Removed 11, List: [44, 59, 46]\n",
            "Added 15, List: [44, 59, 46, 15]\n",
            "Added 29, List: [44, 59, 46, 15, 29]\n",
            "Removed 44, List: [59, 46, 15, 29]\n",
            "Added 40, List: [59, 46, 15, 29, 40]\n",
            "Removed 59, List: [46, 15, 29, 40]\n",
            "Added 66, List: [46, 15, 29, 40, 66]\n",
            "Added 66, List: [46, 15, 29, 40, 66, 66]\n",
            "Removed 46, List: [15, 29, 40, 66, 66]\n",
            "Removed 15, List: [29, 40, 66, 66]\n",
            "Added 92, List: [29, 40, 66, 66, 92]\n",
            "Added 57, List: [29, 40, 66, 66, 92, 57]\n",
            "Removed 29, List: [40, 66, 66, 92, 57]\n",
            "Added 69, List: [40, 66, 66, 92, 57, 69]\n",
            "Removed 40, List: [66, 66, 92, 57, 69]\n",
            "Added 43, List: [66, 66, 92, 57, 69, 43]\n",
            "Removed 66, List: [66, 92, 57, 69, 43]\n",
            "Added 25, List: [66, 92, 57, 69, 43, 25]\n",
            "Added 55, List: [66, 92, 57, 69, 43, 25, 55]\n",
            "Removed 66, List: [92, 57, 69, 43, 25, 55]\n",
            "Added 52, List: [92, 57, 69, 43, 25, 55, 52]\n",
            "Removed 92, List: [57, 69, 43, 25, 55, 52]\n",
            "Added 39, List: [57, 69, 43, 25, 55, 52, 39]\n",
            "Removed 57, List: [69, 43, 25, 55, 52, 39]\n",
            "Added 28, List: [69, 43, 25, 55, 52, 39, 28]\n",
            "Added 43, List: [69, 43, 25, 55, 52, 39, 28, 43]\n",
            "Removed 69, List: [43, 25, 55, 52, 39, 28, 43]\n",
            "Added 7, List: [43, 25, 55, 52, 39, 28, 43, 7]\n",
            "Removed 43, List: [25, 55, 52, 39, 28, 43, 7]\n",
            "Added 12, List: [25, 55, 52, 39, 28, 43, 7, 12]\n",
            "Added 18, List: [25, 55, 52, 39, 28, 43, 7, 12, 18]\n",
            "Removed 25, List: [55, 52, 39, 28, 43, 7, 12, 18]\n",
            "Added 12, List: [55, 52, 39, 28, 43, 7, 12, 18, 12]\n",
            "Removed 55, List: [52, 39, 28, 43, 7, 12, 18, 12]\n",
            "Added 21, List: [52, 39, 28, 43, 7, 12, 18, 12, 21]\n",
            "Added 69, List: [52, 39, 28, 43, 7, 12, 18, 12, 21, 69]\n",
            "Removed 52, List: [39, 28, 43, 7, 12, 18, 12, 21, 69]\n",
            "Added 60, List: [39, 28, 43, 7, 12, 18, 12, 21, 69, 60]\n",
            "Removed 39, List: [28, 43, 7, 12, 18, 12, 21, 69, 60]\n",
            "Added 78, List: [28, 43, 7, 12, 18, 12, 21, 69, 60, 78]\n",
            "Removed 28, List: [43, 7, 12, 18, 12, 21, 69, 60, 78]\n",
            "Added 90, List: [43, 7, 12, 18, 12, 21, 69, 60, 78, 90]\n",
            "Removed 43, List: [7, 12, 18, 12, 21, 69, 60, 78, 90]\n",
            "Added 35, List: [7, 12, 18, 12, 21, 69, 60, 78, 90, 35]\n",
            "Added 82, List: [7, 12, 18, 12, 21, 69, 60, 78, 90, 35, 82]\n",
            "Removed 7, List: [12, 18, 12, 21, 69, 60, 78, 90, 35, 82]\n",
            "Added 7, List: [12, 18, 12, 21, 69, 60, 78, 90, 35, 82, 7]\n",
            "Removed 12, List: [18, 12, 21, 69, 60, 78, 90, 35, 82, 7]\n",
            "Added 15, List: [18, 12, 21, 69, 60, 78, 90, 35, 82, 7, 15]\n",
            "Added 69, List: [18, 12, 21, 69, 60, 78, 90, 35, 82, 7, 15, 69]\n",
            "Removed 18, List: [12, 21, 69, 60, 78, 90, 35, 82, 7, 15, 69]\n",
            "Added 98, List: [12, 21, 69, 60, 78, 90, 35, 82, 7, 15, 69, 98]\n",
            "Added 66, List: [12, 21, 69, 60, 78, 90, 35, 82, 7, 15, 69, 98, 66]\n",
            "Removed 12, List: [21, 69, 60, 78, 90, 35, 82, 7, 15, 69, 98, 66]\n",
            "Added 65, List: [21, 69, 60, 78, 90, 35, 82, 7, 15, 69, 98, 66, 65]\n",
            "Removed 21, List: [69, 60, 78, 90, 35, 82, 7, 15, 69, 98, 66, 65]\n",
            "Added 25, List: [69, 60, 78, 90, 35, 82, 7, 15, 69, 98, 66, 65, 25]\n",
            "Removed 69, List: [60, 78, 90, 35, 82, 7, 15, 69, 98, 66, 65, 25]\n",
            "Added 29, List: [60, 78, 90, 35, 82, 7, 15, 69, 98, 66, 65, 25, 29]\n",
            "Added 6, List: [60, 78, 90, 35, 82, 7, 15, 69, 98, 66, 65, 25, 29, 6]\n",
            "Removed 60, List: [78, 90, 35, 82, 7, 15, 69, 98, 66, 65, 25, 29, 6]\n",
            "Added 95, List: [78, 90, 35, 82, 7, 15, 69, 98, 66, 65, 25, 29, 6, 95]\n",
            "Removed 78, List: [90, 35, 82, 7, 15, 69, 98, 66, 65, 25, 29, 6, 95]\n",
            "Added 63, List: [90, 35, 82, 7, 15, 69, 98, 66, 65, 25, 29, 6, 95, 63]\n",
            "Added 82, List: [90, 35, 82, 7, 15, 69, 98, 66, 65, 25, 29, 6, 95, 63, 82]\n",
            "Removed 90, List: [35, 82, 7, 15, 69, 98, 66, 65, 25, 29, 6, 95, 63, 82]\n",
            "Added 22, List: [35, 82, 7, 15, 69, 98, 66, 65, 25, 29, 6, 95, 63, 82, 22]\n",
            "Removed 35, List: [82, 7, 15, 69, 98, 66, 65, 25, 29, 6, 95, 63, 82, 22]\n",
            "Added 59, List: [82, 7, 15, 69, 98, 66, 65, 25, 29, 6, 95, 63, 82, 22, 59]\n",
            "Removed 82, List: [7, 15, 69, 98, 66, 65, 25, 29, 6, 95, 63, 82, 22, 59]\n",
            "Added 10, List: [7, 15, 69, 98, 66, 65, 25, 29, 6, 95, 63, 82, 22, 59, 10]\n",
            "Added 45, List: [7, 15, 69, 98, 66, 65, 25, 29, 6, 95, 63, 82, 22, 59, 10, 45]\n",
            "Added 19, List: [7, 15, 69, 98, 66, 65, 25, 29, 6, 95, 63, 82, 22, 59, 10, 45, 19]\n",
            "Removed 7, List: [15, 69, 98, 66, 65, 25, 29, 6, 95, 63, 82, 22, 59, 10, 45, 19]\n",
            "Added 72, List: [15, 69, 98, 66, 65, 25, 29, 6, 95, 63, 82, 22, 59, 10, 45, 19, 72]\n",
            "Added 70, List: [15, 69, 98, 66, 65, 25, 29, 6, 95, 63, 82, 22, 59, 10, 45, 19, 72, 70]\n",
            "Removed 15, List: [69, 98, 66, 65, 25, 29, 6, 95, 63, 82, 22, 59, 10, 45, 19, 72, 70]\n",
            "Added 87, List: [69, 98, 66, 65, 25, 29, 6, 95, 63, 82, 22, 59, 10, 45, 19, 72, 70, 87]\n",
            "Added 93, List: [69, 98, 66, 65, 25, 29, 6, 95, 63, 82, 22, 59, 10, 45, 19, 72, 70, 87, 93]\n",
            "Removed 69, List: [98, 66, 65, 25, 29, 6, 95, 63, 82, 22, 59, 10, 45, 19, 72, 70, 87, 93]\n",
            "Added 62, List: [98, 66, 65, 25, 29, 6, 95, 63, 82, 22, 59, 10, 45, 19, 72, 70, 87, 93, 62]\n",
            "Added 6, List: [98, 66, 65, 25, 29, 6, 95, 63, 82, 22, 59, 10, 45, 19, 72, 70, 87, 93, 62, 6]\n",
            "Removed 98, List: [66, 65, 25, 29, 6, 95, 63, 82, 22, 59, 10, 45, 19, 72, 70, 87, 93, 62, 6]\n",
            "Added 53, List: [66, 65, 25, 29, 6, 95, 63, 82, 22, 59, 10, 45, 19, 72, 70, 87, 93, 62, 6, 53]\n",
            "Added 60, List: [66, 65, 25, 29, 6, 95, 63, 82, 22, 59, 10, 45, 19, 72, 70, 87, 93, 62, 6, 53, 60]\n",
            "Added 87, List: [66, 65, 25, 29, 6, 95, 63, 82, 22, 59, 10, 45, 19, 72, 70, 87, 93, 62, 6, 53, 60, 87]\n",
            "Removed 66, List: [65, 25, 29, 6, 95, 63, 82, 22, 59, 10, 45, 19, 72, 70, 87, 93, 62, 6, 53, 60, 87]\n",
            "Added 90, List: [65, 25, 29, 6, 95, 63, 82, 22, 59, 10, 45, 19, 72, 70, 87, 93, 62, 6, 53, 60, 87, 90]\n",
            "Removed 65, List: [25, 29, 6, 95, 63, 82, 22, 59, 10, 45, 19, 72, 70, 87, 93, 62, 6, 53, 60, 87, 90]\n",
            "Added 15, List: [25, 29, 6, 95, 63, 82, 22, 59, 10, 45, 19, 72, 70, 87, 93, 62, 6, 53, 60, 87, 90, 15]\n",
            "Added 66, List: [25, 29, 6, 95, 63, 82, 22, 59, 10, 45, 19, 72, 70, 87, 93, 62, 6, 53, 60, 87, 90, 15, 66]\n",
            "Removed 25, List: [29, 6, 95, 63, 82, 22, 59, 10, 45, 19, 72, 70, 87, 93, 62, 6, 53, 60, 87, 90, 15, 66]\n",
            "Added 82, List: [29, 6, 95, 63, 82, 22, 59, 10, 45, 19, 72, 70, 87, 93, 62, 6, 53, 60, 87, 90, 15, 66, 82]\n",
            "Removed 29, List: [6, 95, 63, 82, 22, 59, 10, 45, 19, 72, 70, 87, 93, 62, 6, 53, 60, 87, 90, 15, 66, 82]\n",
            "Added 49, List: [6, 95, 63, 82, 22, 59, 10, 45, 19, 72, 70, 87, 93, 62, 6, 53, 60, 87, 90, 15, 66, 82, 49]\n",
            "Added 81, List: [6, 95, 63, 82, 22, 59, 10, 45, 19, 72, 70, 87, 93, 62, 6, 53, 60, 87, 90, 15, 66, 82, 49, 81]\n",
            "Removed 6, List: [95, 63, 82, 22, 59, 10, 45, 19, 72, 70, 87, 93, 62, 6, 53, 60, 87, 90, 15, 66, 82, 49, 81]\n",
            "Added 65, List: [95, 63, 82, 22, 59, 10, 45, 19, 72, 70, 87, 93, 62, 6, 53, 60, 87, 90, 15, 66, 82, 49, 81, 65]\n",
            "Added 6, List: [95, 63, 82, 22, 59, 10, 45, 19, 72, 70, 87, 93, 62, 6, 53, 60, 87, 90, 15, 66, 82, 49, 81, 65, 6]\n",
            "Removed 95, List: [63, 82, 22, 59, 10, 45, 19, 72, 70, 87, 93, 62, 6, 53, 60, 87, 90, 15, 66, 82, 49, 81, 65, 6]\n",
            "Added 66, List: [63, 82, 22, 59, 10, 45, 19, 72, 70, 87, 93, 62, 6, 53, 60, 87, 90, 15, 66, 82, 49, 81, 65, 6, 66]\n",
            "Removed 63, List: [82, 22, 59, 10, 45, 19, 72, 70, 87, 93, 62, 6, 53, 60, 87, 90, 15, 66, 82, 49, 81, 65, 6, 66]\n",
            "Added 81, List: [82, 22, 59, 10, 45, 19, 72, 70, 87, 93, 62, 6, 53, 60, 87, 90, 15, 66, 82, 49, 81, 65, 6, 66, 81]\n",
            "Removed 82, List: [22, 59, 10, 45, 19, 72, 70, 87, 93, 62, 6, 53, 60, 87, 90, 15, 66, 82, 49, 81, 65, 6, 66, 81]\n",
            "Added 60, List: [22, 59, 10, 45, 19, 72, 70, 87, 93, 62, 6, 53, 60, 87, 90, 15, 66, 82, 49, 81, 65, 6, 66, 81, 60]\n",
            "Removed 22, List: [59, 10, 45, 19, 72, 70, 87, 93, 62, 6, 53, 60, 87, 90, 15, 66, 82, 49, 81, 65, 6, 66, 81, 60]\n",
            "Added 59, List: [59, 10, 45, 19, 72, 70, 87, 93, 62, 6, 53, 60, 87, 90, 15, 66, 82, 49, 81, 65, 6, 66, 81, 60, 59]\n",
            "Removed 59, List: [10, 45, 19, 72, 70, 87, 93, 62, 6, 53, 60, 87, 90, 15, 66, 82, 49, 81, 65, 6, 66, 81, 60, 59]\n",
            "Added 95, List: [10, 45, 19, 72, 70, 87, 93, 62, 6, 53, 60, 87, 90, 15, 66, 82, 49, 81, 65, 6, 66, 81, 60, 59, 95]\n"
          ]
        },
        {
          "output_type": "error",
          "ename": "KeyboardInterrupt",
          "evalue": "",
          "traceback": [
            "\u001b[0;31m---------------------------------------------------------------------------\u001b[0m",
            "\u001b[0;31mKeyboardInterrupt\u001b[0m                         Traceback (most recent call last)",
            "\u001b[0;32m<ipython-input-4-22460e7f2903>\u001b[0m in \u001b[0;36m<cell line: 52>\u001b[0;34m()\u001b[0m\n\u001b[1;32m     50\u001b[0m \u001b[0;34m\u001b[0m\u001b[0m\n\u001b[1;32m     51\u001b[0m \u001b[0;31m# Join threads (optional, so they run indefinitely)\u001b[0m\u001b[0;34m\u001b[0m\u001b[0;34m\u001b[0m\u001b[0m\n\u001b[0;32m---> 52\u001b[0;31m \u001b[0madd_thread\u001b[0m\u001b[0;34m.\u001b[0m\u001b[0mjoin\u001b[0m\u001b[0;34m(\u001b[0m\u001b[0;34m)\u001b[0m\u001b[0;34m\u001b[0m\u001b[0;34m\u001b[0m\u001b[0m\n\u001b[0m\u001b[1;32m     53\u001b[0m \u001b[0mremove_thread\u001b[0m\u001b[0;34m.\u001b[0m\u001b[0mjoin\u001b[0m\u001b[0;34m(\u001b[0m\u001b[0;34m)\u001b[0m\u001b[0;34m\u001b[0m\u001b[0;34m\u001b[0m\u001b[0m\n",
            "\u001b[0;32m/usr/lib/python3.10/threading.py\u001b[0m in \u001b[0;36mjoin\u001b[0;34m(self, timeout)\u001b[0m\n\u001b[1;32m   1094\u001b[0m \u001b[0;34m\u001b[0m\u001b[0m\n\u001b[1;32m   1095\u001b[0m         \u001b[0;32mif\u001b[0m \u001b[0mtimeout\u001b[0m \u001b[0;32mis\u001b[0m \u001b[0;32mNone\u001b[0m\u001b[0;34m:\u001b[0m\u001b[0;34m\u001b[0m\u001b[0;34m\u001b[0m\u001b[0m\n\u001b[0;32m-> 1096\u001b[0;31m             \u001b[0mself\u001b[0m\u001b[0;34m.\u001b[0m\u001b[0m_wait_for_tstate_lock\u001b[0m\u001b[0;34m(\u001b[0m\u001b[0;34m)\u001b[0m\u001b[0;34m\u001b[0m\u001b[0;34m\u001b[0m\u001b[0m\n\u001b[0m\u001b[1;32m   1097\u001b[0m         \u001b[0;32melse\u001b[0m\u001b[0;34m:\u001b[0m\u001b[0;34m\u001b[0m\u001b[0;34m\u001b[0m\u001b[0m\n\u001b[1;32m   1098\u001b[0m             \u001b[0;31m# the behavior of a negative timeout isn't documented, but\u001b[0m\u001b[0;34m\u001b[0m\u001b[0;34m\u001b[0m\u001b[0m\n",
            "\u001b[0;32m/usr/lib/python3.10/threading.py\u001b[0m in \u001b[0;36m_wait_for_tstate_lock\u001b[0;34m(self, block, timeout)\u001b[0m\n\u001b[1;32m   1114\u001b[0m \u001b[0;34m\u001b[0m\u001b[0m\n\u001b[1;32m   1115\u001b[0m         \u001b[0;32mtry\u001b[0m\u001b[0;34m:\u001b[0m\u001b[0;34m\u001b[0m\u001b[0;34m\u001b[0m\u001b[0m\n\u001b[0;32m-> 1116\u001b[0;31m             \u001b[0;32mif\u001b[0m \u001b[0mlock\u001b[0m\u001b[0;34m.\u001b[0m\u001b[0macquire\u001b[0m\u001b[0;34m(\u001b[0m\u001b[0mblock\u001b[0m\u001b[0;34m,\u001b[0m \u001b[0mtimeout\u001b[0m\u001b[0;34m)\u001b[0m\u001b[0;34m:\u001b[0m\u001b[0;34m\u001b[0m\u001b[0;34m\u001b[0m\u001b[0m\n\u001b[0m\u001b[1;32m   1117\u001b[0m                 \u001b[0mlock\u001b[0m\u001b[0;34m.\u001b[0m\u001b[0mrelease\u001b[0m\u001b[0;34m(\u001b[0m\u001b[0;34m)\u001b[0m\u001b[0;34m\u001b[0m\u001b[0;34m\u001b[0m\u001b[0m\n\u001b[1;32m   1118\u001b[0m                 \u001b[0mself\u001b[0m\u001b[0;34m.\u001b[0m\u001b[0m_stop\u001b[0m\u001b[0;34m(\u001b[0m\u001b[0;34m)\u001b[0m\u001b[0;34m\u001b[0m\u001b[0;34m\u001b[0m\u001b[0m\n",
            "\u001b[0;31mKeyboardInterrupt\u001b[0m: "
          ]
        }
      ]
    },
    {
      "cell_type": "markdown",
      "source": [
        "**QUES 5**- Describe the methods and tools available in Python for safely sharing data between threads and processes."
      ],
      "metadata": {
        "id": "2EmJOfnXOGP8"
      }
    },
    {
      "cell_type": "markdown",
      "source": [
        "In Python, sharing data between threads and processes can be achieved using various methods and tools designed to ensure data integrity and prevent issues like race conditions. Here are some key techniques and tools:\n",
        "\n",
        "**For Threading**\n",
        "\n",
        "**Locks:**\n",
        "\n",
        "Lock: A simple mutual exclusion lock. It ensures that only one thread can access a shared resource at a time.\n",
        "\n",
        "**RLocks (Reentrant Locks):**\n",
        "\n",
        "RLock: Similar to Lock, but allows a thread to acquire it multiple times without blocking itself.\n",
        "\n",
        "**Semaphores**:\n",
        "\n",
        "Semaphore: A more flexible synchronization primitive that allows a fixed number of threads to access a resource.\n",
        "\n",
        "**Condition Variables:**\n",
        "\n",
        "Condition: Allows threads to wait for certain conditions to be met before proceeding.\n",
        "\n",
        "**Queues:**\n",
        "\n",
        "Queue: A thread-safe FIFO implementation. Useful for producer-consumer scenarios where data is passed between threads."
      ],
      "metadata": {
        "id": "XHvh7IT7OOKX"
      }
    },
    {
      "cell_type": "markdown",
      "source": [
        "**For Multiprocessing**\n",
        "\n",
        "**Process-Based Synchronization**\n",
        "\n",
        "**Locks**:\n",
        "Similar to threading, multiprocessing.Lock can be used to ensure only one process accesses a resource.\n",
        "\n",
        "**RLocks:**\n",
        "RLock serves the same purpose but allows reentrancy.\n",
        "\n",
        "**Queues:**\n",
        "\n",
        "Queue: A process-safe FIFO queue for sharing data between processes.\n",
        "\n",
        "**Pipes**:\n",
        "\n",
        "Pipe: Allows two processes to communicate directly with each other.\n",
        "\n",
        "**Shared Memory:**\n",
        "\n",
        "shared_memory: Introduced in Python 3.8, allows sharing data between processes using shared memory blocks, which can be more efficient for large datasets.\n",
        "\n",
        "**Value and Array**:\n",
        "\n",
        "Value and multiprocessing.Array: Used for sharing simple data types and arrays between processes."
      ],
      "metadata": {
        "id": "-DgJFtRoO758"
      }
    },
    {
      "cell_type": "markdown",
      "source": [],
      "metadata": {
        "id": "GnPQIIXgI13z"
      }
    },
    {
      "cell_type": "markdown",
      "source": [
        "**QUES6.** Discuss why it’s crucial to handle exceptions in concurrent programs and the techniques available for doing so."
      ],
      "metadata": {
        "id": "5lmE4j9tQAP6"
      }
    },
    {
      "cell_type": "markdown",
      "source": [
        "**Importance of Exception Handling in Concurrent Programs**\n",
        "\n",
        "**Resource Management:**\n",
        "\n",
        " Unhandled exceptions can lead to resource leaks, such as open file handles or database connections that are not properly released. This can degrade system performance over time.\n",
        "\n",
        "**Stability:**\n",
        "\n",
        " An unhandled exception in one thread or process can crash the entire application or lead to inconsistent states, making it essential to handle exceptions gracefully.\n",
        "\n",
        "**Debugging:**\n",
        "\n",
        " Proper exception handling helps in logging errors, making it easier to trace issues that occur in concurrent execution. This is particularly important as the flow of control can be more complex.\n",
        "\n",
        "**Communication:**\n",
        "\n",
        " When multiple threads or processes are involved, exceptions in one part of the system may need to be communicated to others. Handling exceptions properly ensures that relevant components are informed of failures.\n",
        "\n",
        "**User Experience:**\n",
        "\n",
        " In applications with a user interface, unhandled exceptions can lead to crashes that frustrate users. Proper exception handling allows for smoother error management and better user feedback."
      ],
      "metadata": {
        "id": "TApgkJNUUh9k"
      }
    },
    {
      "cell_type": "markdown",
      "source": [
        "**Techniques for Handling Exceptions**\n",
        "\n",
        "**Try-Except Blocks:**\n",
        "\n",
        "Use standard try-except blocks within threads or tasks to catch and handle exceptions locally.\n",
        "\n",
        "**Thread and Process Management:**\n",
        "\n",
        "Use Thread.join() to wait for a thread to finish and check for exceptions by maintaining a shared variable or using thread-specific data structures.\n",
        "\n",
        "In multiprocessing, you can catch exceptions in child processes and handle them by returning error codes or using custom exception classes.\n",
        "\n",
        "**Custom Exception Classes:**\n",
        "\n",
        "Define custom exceptions to differentiate between types of errors, making it easier to handle specific cases in a more meaningful way.\n",
        "\n",
        "**Logging:**\n",
        "\n",
        "Utilize Python’s logging module to log exceptions. This is especially useful for monitoring applications running in production.\n",
        "\n",
        "**Callbacks for Error Handling:**\n",
        "\n",
        "For more complex systems, consider using callback functions that can be executed when an exception occurs, allowing centralized error handling.\n",
        "\n",
        "**Graceful Shutdown:**\n",
        "\n",
        "Implement a mechanism to catch exceptions and allow for a graceful shutdown of threads or processes, ensuring that all resources are cleaned up."
      ],
      "metadata": {
        "id": "eqPKFOZJU0vb"
      }
    },
    {
      "cell_type": "code",
      "source": [
        "from concurrent.futures import ThreadPoolExecutor\n",
        "\n",
        "def task():\n",
        "    raise ValueError(\"An error occurred!\")\n",
        "\n",
        "with ThreadPoolExecutor() as executor:\n",
        "    future = executor.submit(task)\n",
        "    try:\n",
        "        result = future.result()  # Raises the exception if occurred\n",
        "    except Exception as e:\n",
        "        print(f\"Exception caught: {e}\")\n"
      ],
      "metadata": {
        "colab": {
          "base_uri": "https://localhost:8080/"
        },
        "id": "S9sm-BqlWrxg",
        "outputId": "310fe526-3ddb-4fa0-e031-d22b19316d9c"
      },
      "execution_count": 1,
      "outputs": [
        {
          "output_type": "stream",
          "name": "stdout",
          "text": [
            "Exception caught: An error occurred!\n"
          ]
        }
      ]
    },
    {
      "cell_type": "markdown",
      "source": [
        "**QUES 7**. Create a program that uses a thread pool to calculate the factorial of numbers from 1 to 10 concurrently. Use concurrent.futures.ThreadPoolExecutor to manage the threads."
      ],
      "metadata": {
        "id": "qJUsq7RBW0sd"
      }
    },
    {
      "cell_type": "code",
      "source": [
        "import concurrent.futures\n",
        "import math\n",
        "\n",
        "# Function to calculate factorial\n",
        "def calculate_factorial(n):\n",
        "    return math.factorial(n)\n",
        "\n",
        "# Main function to run the thread pool\n",
        "def main():\n",
        "    numbers = range(1, 11)  # Numbers from 1 to 10\n",
        "\n",
        "    # Using ThreadPoolExecutor to manage threads\n",
        "    with concurrent.futures.ThreadPoolExecutor() as executor:\n",
        "        # Submit the calculate_factorial function for each number\n",
        "        futures = {executor.submit(calculate_factorial, n): n for n in numbers}\n",
        "\n",
        "        # Collect results as they are completed\n",
        "        for future in concurrent.futures.as_completed(futures):\n",
        "            number = futures[future]\n",
        "            try:\n",
        "                result = future.result()\n",
        "                print(f\"Factorial of {number} is {result}\")\n",
        "            except Exception as e:\n",
        "                print(f\"Error calculating factorial of {number}: {e}\")\n",
        "\n",
        "if __name__ == \"__main__\":\n",
        "    main()\n"
      ],
      "metadata": {
        "colab": {
          "base_uri": "https://localhost:8080/"
        },
        "id": "b-1akvGfW8Vo",
        "outputId": "9f52448d-a1d8-4bf3-c6b7-b44bc6942968"
      },
      "execution_count": 2,
      "outputs": [
        {
          "output_type": "stream",
          "name": "stdout",
          "text": [
            "Factorial of 9 is 362880\n",
            "Factorial of 5 is 120\n",
            "Factorial of 4 is 24\n",
            "Factorial of 7 is 5040\n",
            "Factorial of 3 is 6\n",
            "Factorial of 6 is 720\n",
            "Factorial of 10 is 3628800\n",
            "Factorial of 2 is 2\n",
            "Factorial of 1 is 1\n",
            "Factorial of 8 is 40320\n"
          ]
        }
      ]
    },
    {
      "cell_type": "markdown",
      "source": [
        "**QUES 8**. Create a Python program that uses multiprocessing.Pool to compute the square of numbers from 1 to 10 in parallel. Measure the time taken to perform this computation using a pool of different sizes (e.g., 2, 4, 8 processes)."
      ],
      "metadata": {
        "id": "8qHOesRHXIEs"
      }
    },
    {
      "cell_type": "code",
      "source": [
        "import multiprocessing\n",
        "import time\n",
        "\n",
        "# Function to compute the square of a number\n",
        "def compute_square(n):\n",
        "    return n * n\n",
        "\n",
        "# Main function to run the pool of processes\n",
        "def main():\n",
        "    numbers = range(1, 11)  # Numbers from 1 to 10\n",
        "\n",
        "    # Define different pool sizes to test\n",
        "    pool_sizes = [2, 4, 8]\n",
        "\n",
        "    for size in pool_sizes:\n",
        "        print(f\"\\nCalculating squares with pool size: {size}\")\n",
        "\n",
        "        # Create a Pool with the specified number of processes\n",
        "        with multiprocessing.Pool(processes=size) as pool:\n",
        "            start_time = time.time()\n",
        "\n",
        "            # Map the compute_square function to the numbers\n",
        "            results = pool.map(compute_square, numbers)\n",
        "\n",
        "            end_time = time.time()\n",
        "            elapsed_time = end_time - start_time\n",
        "\n",
        "            print(f\"Squares: {results}\")\n",
        "            print(f\"Time taken: {elapsed_time:.4f} seconds\")\n",
        "\n",
        "if __name__ == \"__main__\":\n",
        "    main()\n"
      ],
      "metadata": {
        "colab": {
          "base_uri": "https://localhost:8080/"
        },
        "id": "9StMaEQwXOb5",
        "outputId": "2dfb76df-97c1-488b-ce42-1454251c545d"
      },
      "execution_count": 3,
      "outputs": [
        {
          "output_type": "stream",
          "name": "stdout",
          "text": [
            "\n",
            "Calculating squares with pool size: 2\n",
            "Squares: [1, 4, 9, 16, 25, 36, 49, 64, 81, 100]\n",
            "Time taken: 0.0021 seconds\n",
            "\n",
            "Calculating squares with pool size: 4\n",
            "Squares: [1, 4, 9, 16, 25, 36, 49, 64, 81, 100]\n",
            "Time taken: 0.0078 seconds\n",
            "\n",
            "Calculating squares with pool size: 8\n",
            "Squares: [1, 4, 9, 16, 25, 36, 49, 64, 81, 100]\n",
            "Time taken: 0.0025 seconds\n"
          ]
        }
      ]
    }
  ]
}